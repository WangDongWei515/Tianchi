{
 "cells": [
  {
   "cell_type": "code",
   "execution_count": 1,
   "metadata": {},
   "outputs": [],
   "source": [
    "import pandas as pd\n",
    "import numpy as np\n",
    "import warnings\n",
    "warnings.filterwarnings('ignore')"
   ]
  },
  {
   "cell_type": "markdown",
   "metadata": {},
   "source": [
    "reduce_mem_usage 函数通过调整数据类型，帮助我们减少数据在内存中占用的空间"
   ]
  },
  {
   "cell_type": "code",
   "execution_count": 2,
   "metadata": {},
   "outputs": [],
   "source": [
    "def reduce_mem_usage(df):\n",
    "    \"\"\" iterate through all the columns of a dataframe and modify the data type\n",
    "        to reduce memory usage.        \n",
    "    \"\"\"\n",
    "    start_mem = df.memory_usage().sum() \n",
    "    print('Memory usage of dataframe is {:.2f} MB'.format(start_mem))\n",
    "    \n",
    "    for col in df.columns:\n",
    "        col_type = df[col].dtype\n",
    "        \n",
    "        if col_type != object:\n",
    "            c_min = df[col].min()\n",
    "            c_max = df[col].max()\n",
    "            if str(col_type)[:3] == 'int':\n",
    "                if c_min > np.iinfo(np.int8).min and c_max < np.iinfo(np.int8).max:\n",
    "                    df[col] = df[col].astype(np.int8)\n",
    "                elif c_min > np.iinfo(np.int16).min and c_max < np.iinfo(np.int16).max:\n",
    "                    df[col] = df[col].astype(np.int16)\n",
    "                elif c_min > np.iinfo(np.int32).min and c_max < np.iinfo(np.int32).max:\n",
    "                    df[col] = df[col].astype(np.int32)\n",
    "                elif c_min > np.iinfo(np.int64).min and c_max < np.iinfo(np.int64).max:\n",
    "                    df[col] = df[col].astype(np.int64)  \n",
    "            else:\n",
    "                if c_min > np.finfo(np.float16).min and c_max < np.finfo(np.float16).max:\n",
    "                    df[col] = df[col].astype(np.float16)\n",
    "                elif c_min > np.finfo(np.float32).min and c_max < np.finfo(np.float32).max:\n",
    "                    df[col] = df[col].astype(np.float32)\n",
    "                else:\n",
    "                    df[col] = df[col].astype(np.float64)\n",
    "        else:\n",
    "            df[col] = df[col].astype('category')\n",
    "\n",
    "    end_mem = df.memory_usage().sum() \n",
    "    print('Memory usage after optimization is: {:.2f} MB'.format(end_mem))\n",
    "    print('Decreased by {:.1f}%'.format(100 * (start_mem - end_mem) / start_mem))\n",
    "    return df"
   ]
  },
  {
   "cell_type": "code",
   "execution_count": 3,
   "metadata": {},
   "outputs": [
    {
     "name": "stdout",
     "output_type": "stream",
     "text": [
      "Memory usage of dataframe is 62099624.00 MB\n",
      "Memory usage after optimization is: 16520255.00 MB\n",
      "Decreased by 73.4%\n"
     ]
    }
   ],
   "source": [
    "sample_feature = reduce_mem_usage(pd.read_csv('data_for_tree.csv'))"
   ]
  },
  {
   "cell_type": "code",
   "execution_count": 4,
   "metadata": {},
   "outputs": [],
   "source": [
    "continuous_feature_names = [x for x in sample_feature.columns if x not in ['price','brand','model','brand']]"
   ]
  },
  {
   "cell_type": "code",
   "execution_count": 5,
   "metadata": {},
   "outputs": [],
   "source": [
    "sample_feature = sample_feature.dropna().replace('-', 0).reset_index(drop=True)\n",
    "sample_feature['notRepairedDamage'] = sample_feature['notRepairedDamage'].astype(np.float32)\n",
    "train = sample_feature[continuous_feature_names + ['price']]\n",
    "\n",
    "train_X = train[continuous_feature_names]\n",
    "train_y = train['price']"
   ]
  },
  {
   "cell_type": "code",
   "execution_count": 6,
   "metadata": {},
   "outputs": [],
   "source": [
    "from sklearn.linear_model import LinearRegression\n",
    "model = LinearRegression(normalize=True)\n",
    "model = model.fit(train_X, train_y)"
   ]
  },
  {
   "cell_type": "markdown",
   "metadata": {},
   "source": [
    "# 简单建模"
   ]
  },
  {
   "cell_type": "markdown",
   "metadata": {},
   "source": [
    "查看训练的线性回归模型的截距（intercept）与权重(coef)"
   ]
  },
  {
   "cell_type": "code",
   "execution_count": 7,
   "metadata": {},
   "outputs": [
    {
     "data": {
      "text/plain": [
       "[('v_6', 3367064.3416419136),\n",
       " ('v_8', 700675.5609398606),\n",
       " ('v_9', 170630.2772321968),\n",
       " ('v_7', 32322.6619320174),\n",
       " ('v_12', 20473.670796954273),\n",
       " ('v_3', 17868.07954149409),\n",
       " ('v_11', 11474.938996679144),\n",
       " ('v_13', 11261.764560014137),\n",
       " ('v_10', 2683.920090624845),\n",
       " ('gearbox', 881.822503924722),\n",
       " ('fuelType', 363.90425072169467),\n",
       " ('bodyType', 189.6027101207212),\n",
       " ('city', 44.94975120522734),\n",
       " ('power', 28.553901616756225),\n",
       " ('brand_price_median', 0.5103728134078392),\n",
       " ('brand_price_std', 0.45036347092631823),\n",
       " ('brand_amount', 0.14881120395066025),\n",
       " ('brand_price_max', 0.0031910186703121924),\n",
       " ('SaleID', 5.3559899198622415e-05),\n",
       " ('seller', 6.635207682847977e-06),\n",
       " ('train', 3.999797627329826e-06),\n",
       " ('offerType', 3.6582350730895996e-06),\n",
       " ('brand_price_sum', -2.1750068681876494e-05),\n",
       " ('name', -0.000298001271304757),\n",
       " ('used_time', -0.0025158943328485923),\n",
       " ('brand_price_average', -0.40490484510108166),\n",
       " ('brand_price_min', -2.246775348688867),\n",
       " ('power_bin', -34.42064411728735),\n",
       " ('v_14', -274.7841180775256),\n",
       " ('kilometer', -372.8975266607475),\n",
       " ('notRepairedDamage', -495.1903844627895),\n",
       " ('v_0', -2045.0549573537867),\n",
       " ('v_5', -11022.986240597997),\n",
       " ('v_4', -15121.731109856006),\n",
       " ('v_2', -26098.29992051123),\n",
       " ('v_1', -45556.18929723833)]"
      ]
     },
     "execution_count": 7,
     "metadata": {},
     "output_type": "execute_result"
    }
   ],
   "source": [
    "'intercept:'+ str(model.intercept_)\n",
    "\n",
    "sorted(dict(zip(continuous_feature_names, model.coef_)).items(), key=lambda x:x[1], reverse=True)"
   ]
  },
  {
   "cell_type": "code",
   "execution_count": 8,
   "metadata": {},
   "outputs": [],
   "source": [
    "from matplotlib import pyplot as plt\n",
    "subsample_index = np.random.randint(low=0, high=len(train_y), size=50)"
   ]
  },
  {
   "cell_type": "markdown",
   "metadata": {},
   "source": [
    "绘制特征v_9的值与标签的散点图，图片发现模型的预测结果（蓝色点）与真实标签（黑色点）的分布差异较大，且部分预测值出现了小于0的情况，说明我们的模型存在一些问题"
   ]
  },
  {
   "cell_type": "code",
   "execution_count": 9,
   "metadata": {},
   "outputs": [
    {
     "name": "stdout",
     "output_type": "stream",
     "text": [
      "The predicted price is obvious different from true price\n"
     ]
    },
    {
     "data": {
      "image/png": "[encoded data removed]",
      "text/plain": [
       "<Figure size 432x288 with 1 Axes>"
      ]
     },
     "metadata": {
      "needs_background": "light"
     },
     "output_type": "display_data"
    }
   ],
   "source": [
    "plt.scatter(train_X['v_9'][subsample_index], train_y[subsample_index], color='black')\n",
    "plt.scatter(train_X['v_9'][subsample_index], model.predict(train_X.loc[subsample_index]), color='blue')\n",
    "plt.xlabel('v_9')\n",
    "plt.ylabel('price')\n",
    "plt.legend(['True Price','Predicted Price'],loc='upper right')\n",
    "print('The predicted price is obvious different from true price')\n",
    "plt.show()"
   ]
  },
  {
   "cell_type": "code",
   "execution_count": 10,
   "metadata": {},
   "outputs": [
    {
     "name": "stdout",
     "output_type": "stream",
     "text": [
      "It is clear to see the price shows a typical exponential distribution\n"
     ]
    },
    {
     "data": {
      "text/plain": [
       "<matplotlib.axes._subplots.AxesSubplot at 0x1e0fc0d2da0>"
      ]
     },
     "execution_count": 10,
     "metadata": {},
     "output_type": "execute_result"
    },
    {
     "data": {
      "image/png": "[encoded data removed]",
      "text/plain": [
       "<Figure size 1080x360 with 2 Axes>"
      ]
     },
     "metadata": {
      "needs_background": "light"
     },
     "output_type": "display_data"
    }
   ],
   "source": [
    "import seaborn as sns\n",
    "print('It is clear to see the price shows a typical exponential distribution')\n",
    "plt.figure(figsize=(15,5))\n",
    "plt.subplot(1,2,1)\n",
    "sns.distplot(train_y)\n",
    "plt.subplot(1,2,2)\n",
    "sns.distplot(train_y[train_y < np.quantile(train_y, 0.9)])"
   ]
  },
  {
   "cell_type": "code",
   "execution_count": 11,
   "metadata": {},
   "outputs": [],
   "source": [
    "train_y_ln = np.log(train_y + 1)"
   ]
  },
  {
   "cell_type": "code",
   "execution_count": 12,
   "metadata": {},
   "outputs": [
    {
     "name": "stdout",
     "output_type": "stream",
     "text": [
      "The transformed price seems like normal distribution\n"
     ]
    },
    {
     "data": {
      "text/plain": [
       "<matplotlib.axes._subplots.AxesSubplot at 0x1e0fc2cb128>"
      ]
     },
     "execution_count": 12,
     "metadata": {},
     "output_type": "execute_result"
    },
    {
     "data": {
      "image/png": "[encoded data removed]",
      "text/plain": [
       "<Figure size 1080x360 with 2 Axes>"
      ]
     },
     "metadata": {
      "needs_background": "light"
     },
     "output_type": "display_data"
    }
   ],
   "source": [
    "import seaborn as sns\n",
    "print('The transformed price seems like normal distribution')\n",
    "plt.figure(figsize=(15,5))\n",
    "plt.subplot(1,2,1)\n",
    "sns.distplot(train_y_ln)\n",
    "plt.subplot(1,2,2)\n",
    "sns.distplot(train_y_ln[train_y_ln < np.quantile(train_y_ln, 0.9)])"
   ]
  },
  {
   "cell_type": "code",
   "execution_count": 13,
   "metadata": {},
   "outputs": [
    {
     "name": "stdout",
     "output_type": "stream",
     "text": [
      "intercept:18.75074946569724\n"
     ]
    },
    {
     "data": {
      "text/plain": [
       "[('v_9', 8.052409900566468),\n",
       " ('v_5', 5.76423659664997),\n",
       " ('v_12', 1.6182081236789159),\n",
       " ('v_1', 1.4798310582985728),\n",
       " ('v_11', 1.166901656359704),\n",
       " ('v_13', 0.9404711296034179),\n",
       " ('v_7', 0.713727308355897),\n",
       " ('v_3', 0.6837875771083692),\n",
       " ('v_0', 0.008500518010004975),\n",
       " ('power_bin', 0.008497969302894069),\n",
       " ('gearbox', 0.007922377278333597),\n",
       " ('fuelType', 0.006684769706831896),\n",
       " ('bodyType', 0.004523520092704097),\n",
       " ('power', 0.0007161894205356891),\n",
       " ('brand_price_min', 3.334351114746724e-05),\n",
       " ('brand_amount', 2.8978797042774904e-06),\n",
       " ('brand_price_median', 1.2571172873072747e-06),\n",
       " ('brand_price_std', 6.659176363473903e-07),\n",
       " ('brand_price_max', 6.19495630751721e-07),\n",
       " ('brand_price_average', 5.999345964987148e-07),\n",
       " ('SaleID', 2.1194170039650885e-08),\n",
       " ('seller', 3.4079761235261685e-10),\n",
       " ('offerType', -7.295852810784709e-11),\n",
       " ('train', -1.197975052491529e-10),\n",
       " ('brand_price_sum', -1.5126504215925019e-10),\n",
       " ('name', -7.015512588894367e-08),\n",
       " ('used_time', -4.1224793723510605e-06),\n",
       " ('city', -0.002218782481042562),\n",
       " ('v_14', -0.004234223418120586),\n",
       " ('kilometer', -0.013835866226883597),\n",
       " ('notRepairedDamage', -0.2702794234984617),\n",
       " ('v_4', -0.8315701200994778),\n",
       " ('v_2', -0.9470842241614916),\n",
       " ('v_10', -1.6261466689764545),\n",
       " ('v_8', -40.34300748761639),\n",
       " ('v_6', -238.7903638550696)]"
      ]
     },
     "execution_count": 13,
     "metadata": {},
     "output_type": "execute_result"
    }
   ],
   "source": [
    "model = model.fit(train_X, train_y_ln)\n",
    "\n",
    "print('intercept:'+ str(model.intercept_))\n",
    "sorted(dict(zip(continuous_feature_names, model.coef_)).items(), key=lambda x:x[1], reverse=True)"
   ]
  },
  {
   "cell_type": "markdown",
   "metadata": {},
   "source": [
    "再次进行可视化，发现预测结果与真实值较为接近，且未出现异常状况"
   ]
  },
  {
   "cell_type": "code",
   "execution_count": 14,
   "metadata": {},
   "outputs": [
    {
     "name": "stdout",
     "output_type": "stream",
     "text": [
      "The predicted price seems normal after np.log transforming\n"
     ]
    },
    {
     "data": {
      "image/png": "[encoded data removed]",
      "text/plain": [
       "<Figure size 432x288 with 1 Axes>"
      ]
     },
     "metadata": {
      "needs_background": "light"
     },
     "output_type": "display_data"
    }
   ],
   "source": [
    "plt.scatter(train_X['v_9'][subsample_index], train_y[subsample_index], color='black')\n",
    "plt.scatter(train_X['v_9'][subsample_index], np.exp(model.predict(train_X.loc[subsample_index])), color='blue')\n",
    "plt.xlabel('v_9')\n",
    "plt.ylabel('price')\n",
    "plt.legend(['True Price','Predicted Price'],loc='upper right')\n",
    "print('The predicted price seems normal after np.log transforming')\n",
    "plt.show()"
   ]
  },
  {
   "cell_type": "code",
   "execution_count": 15,
   "metadata": {},
   "outputs": [],
   "source": [
    "from sklearn.model_selection import cross_val_score\n",
    "from sklearn.metrics import mean_absolute_error,  make_scorer"
   ]
  },
  {
   "cell_type": "code",
   "execution_count": 16,
   "metadata": {},
   "outputs": [],
   "source": [
    "def log_transfer(func):\n",
    "    def wrapper(y, yhat):\n",
    "        result = func(np.log(y), np.nan_to_num(np.log(yhat)))\n",
    "        return result\n",
    "    return wrapper"
   ]
  },
  {
   "cell_type": "code",
   "execution_count": 17,
   "metadata": {},
   "outputs": [
    {
     "name": "stderr",
     "output_type": "stream",
     "text": [
      "[Parallel(n_jobs=1)]: Using backend SequentialBackend with 1 concurrent workers.\n",
      "[Parallel(n_jobs=1)]: Done   5 out of   5 | elapsed:    0.8s finished\n"
     ]
    }
   ],
   "source": [
    "scores = cross_val_score(model, X=train_X, y=train_y, verbose=1, cv = 5, scoring=make_scorer(log_transfer(mean_absolute_error)))"
   ]
  },
  {
   "cell_type": "code",
   "execution_count": 18,
   "metadata": {},
   "outputs": [
    {
     "name": "stdout",
     "output_type": "stream",
     "text": [
      "AVG: 1.3658023920313986\n"
     ]
    }
   ],
   "source": [
    "print('AVG:', np.mean(scores))"
   ]
  },
  {
   "cell_type": "code",
   "execution_count": 19,
   "metadata": {},
   "outputs": [
    {
     "data": {
      "text/html": [
       "<div>\n",
       "<style scoped>\n",
       "    .dataframe tbody tr th:only-of-type {\n",
       "        vertical-align: middle;\n",
       "    }\n",
       "\n",
       "    .dataframe tbody tr th {\n",
       "        vertical-align: top;\n",
       "    }\n",
       "\n",
       "    .dataframe thead th {\n",
       "        text-align: right;\n",
       "    }\n",
       "</style>\n",
       "<table border=\"1\" class=\"dataframe\">\n",
       "  <thead>\n",
       "    <tr style=\"text-align: right;\">\n",
       "      <th></th>\n",
       "      <th>cv1</th>\n",
       "      <th>cv2</th>\n",
       "      <th>cv3</th>\n",
       "      <th>cv4</th>\n",
       "      <th>cv5</th>\n",
       "    </tr>\n",
       "  </thead>\n",
       "  <tbody>\n",
       "    <tr>\n",
       "      <th>MAE</th>\n",
       "      <td>1.348304</td>\n",
       "      <td>1.36349</td>\n",
       "      <td>1.380712</td>\n",
       "      <td>1.378401</td>\n",
       "      <td>1.358105</td>\n",
       "    </tr>\n",
       "  </tbody>\n",
       "</table>\n",
       "</div>"
      ],
      "text/plain": [
       "          cv1      cv2       cv3       cv4       cv5\n",
       "MAE  1.348304  1.36349  1.380712  1.378401  1.358105"
      ]
     },
     "execution_count": 19,
     "metadata": {},
     "output_type": "execute_result"
    }
   ],
   "source": [
    "scores = pd.DataFrame(scores.reshape(1,-1))\n",
    "scores.columns = ['cv' + str(x) for x in range(1, 6)]\n",
    "scores.index = ['MAE']\n",
    "scores"
   ]
  },
  {
   "cell_type": "code",
   "execution_count": 20,
   "metadata": {},
   "outputs": [],
   "source": [
    "import datetime"
   ]
  },
  {
   "cell_type": "code",
   "execution_count": 21,
   "metadata": {},
   "outputs": [],
   "source": [
    "sample_feature = sample_feature.reset_index(drop=True)"
   ]
  },
  {
   "cell_type": "code",
   "execution_count": 22,
   "metadata": {},
   "outputs": [],
   "source": [
    "split_point = len(sample_feature) // 5 * 4"
   ]
  },
  {
   "cell_type": "code",
   "execution_count": 23,
   "metadata": {},
   "outputs": [],
   "source": [
    "train = sample_feature.loc[:split_point].dropna()\n",
    "val = sample_feature.loc[split_point:].dropna()\n",
    "\n",
    "train_X = train[continuous_feature_names]\n",
    "train_y_ln = np.log(train['price'] + 1)\n",
    "val_X = val[continuous_feature_names]\n",
    "val_y_ln = np.log(val['price'] + 1)"
   ]
  },
  {
   "cell_type": "code",
   "execution_count": 24,
   "metadata": {},
   "outputs": [],
   "source": [
    "model = model.fit(train_X, train_y_ln)"
   ]
  },
  {
   "cell_type": "code",
   "execution_count": 25,
   "metadata": {},
   "outputs": [
    {
     "data": {
      "text/plain": [
       "0.1957766727030097"
      ]
     },
     "execution_count": 25,
     "metadata": {},
     "output_type": "execute_result"
    }
   ],
   "source": [
    "mean_absolute_error(val_y_ln, model.predict(val_X))"
   ]
  },
  {
   "cell_type": "code",
   "execution_count": null,
   "metadata": {},
   "outputs": [],
   "source": []
  }
 ],
 "metadata": {
  "kernelspec": {
   "display_name": "Python 3",
   "language": "python",
   "name": "python3"
  },
  "language_info": {
   "codemirror_mode": {
    "name": "ipython",
    "version": 3
   },
   "file_extension": ".py",
   "mimetype": "text/x-python",
   "name": "python",
   "nbconvert_exporter": "python",
   "pygments_lexer": "ipython3",
   "version": "3.7.3"
  }
 },
 "nbformat": 4,
 "nbformat_minor": 2
}
